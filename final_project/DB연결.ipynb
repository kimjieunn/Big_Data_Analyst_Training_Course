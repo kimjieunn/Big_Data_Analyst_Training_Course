{
 "cells": [
  {
   "cell_type": "code",
   "execution_count": 15,
   "id": "b14f7336",
   "metadata": {},
   "outputs": [],
   "source": [
    "# !pip install psycopg2-binary\n",
    "import psycopg2"
   ]
  },
  {
   "cell_type": "code",
   "execution_count": 16,
   "id": "8536a37a",
   "metadata": {},
   "outputs": [],
   "source": [
    "# Postgresql DB connect using psycopg2\n",
    "\n",
    "from psycopg2 import connect\n",
    "\n",
    "\n",
    "conn = psycopg2.connect(\"host='192.168.0.27' port='5432' dbname='seoul' user='postgres' password='7089'\") # 그대로\n",
    "cur = conn.cursor()\n",
    "\n",
    "# Create a table at Postgresql public schema with seoul name\n",
    "# 모델 create 문 쓰세요!!!\n",
    "cur.execute(\"\"\"\n",
    "    DROP TABLE IF EXISTS test;\n",
    "    CREATE TABLE mpop.store_final (\n",
    "    \n",
    "        상세영업상태명 varchar(50) not null, \n",
    "        소재지전체주소 varchar(100) not null, \n",
    "        사업장명 varchar(50) not null, \n",
    "        업태구분명 varchar(50) not null,\n",
    "        위도 numeric not null, \n",
    "        경도 numeric not null,\n",
    "        dong_name varchar(50) not null\n",
    "    )\n",
    "\"\"\")\n",
    "conn.commit()"
   ]
  },
  {
   "cell_type": "code",
   "execution_count": 17,
   "id": "97fd15fd",
   "metadata": {},
   "outputs": [],
   "source": [
    "import csv\n",
    "\n",
    "query = \"\"\"\n",
    "    COPY mpop.store_final FROM STDIN DELIMITER ',' CSV;\n",
    "\"\"\"\n",
    "\n",
    "with open('C:/Users/Admin/Final/store_final.csv', 'r', encoding='cp949') as f:\n",
    "    csvheader = csv.reader(f)\n",
    "    next(csvheader)\n",
    "    cur.copy_expert(query, f)\n",
    "\n",
    "conn.commit()\n",
    "\n",
    "# close connection\n",
    "conn.close()"
   ]
  },
  {
   "cell_type": "code",
   "execution_count": null,
   "id": "705bdad8",
   "metadata": {},
   "outputs": [],
   "source": []
  }
 ],
 "metadata": {
  "kernelspec": {
   "display_name": "Python 3 (ipykernel)",
   "language": "python",
   "name": "python3"
  },
  "language_info": {
   "codemirror_mode": {
    "name": "ipython",
    "version": 3
   },
   "file_extension": ".py",
   "mimetype": "text/x-python",
   "name": "python",
   "nbconvert_exporter": "python",
   "pygments_lexer": "ipython3",
   "version": "3.9.12"
  }
 },
 "nbformat": 4,
 "nbformat_minor": 5
}
