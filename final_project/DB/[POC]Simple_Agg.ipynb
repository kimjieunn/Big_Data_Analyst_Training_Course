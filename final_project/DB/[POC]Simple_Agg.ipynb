{
 "cells": [
  {
   "cell_type": "code",
   "execution_count": null,
   "id": "b5c206da",
   "metadata": {},
   "outputs": [],
   "source": []
  },
  {
   "cell_type": "code",
   "execution_count": null,
   "id": "8e315448",
   "metadata": {},
   "outputs": [],
   "source": [
    "df"
   ]
  },
  {
   "cell_type": "code",
   "execution_count": null,
   "id": "0a4c5632",
   "metadata": {},
   "outputs": [],
   "source": [
    "cols = df.columns[2:13]\n",
    "df_selec_staring = df[['gu_name', 'dong_name']]\n",
    "warnings.filterwarnings(action='ignore')\n",
    "for col in cols:\n",
    "    df_selec_staring[col] = pd.qcut(df[col], 10, labels=False, duplicates = 'drop')\n",
    "warnings.filterwarnings(action='default')"
   ]
  },
  {
   "cell_type": "code",
   "execution_count": null,
   "id": "a997fe64",
   "metadata": {},
   "outputs": [],
   "source": [
    "df_selec_staring['total_star'] = df_selec_staring.iloc[:, 2:].sum(axis=1)\n",
    "df_selec_staring"
   ]
  },
  {
   "cell_type": "code",
   "execution_count": null,
   "id": "cec35f20",
   "metadata": {},
   "outputs": [],
   "source": [
    "df_selec_staring.groupby(['gu_name', 'dong_name'])"
   ]
  },
  {
   "cell_type": "code",
   "execution_count": null,
   "id": "8833cb0b",
   "metadata": {},
   "outputs": [],
   "source": []
  },
  {
   "cell_type": "markdown",
   "id": "4e27b28a",
   "metadata": {},
   "source": [
    "# 지역추천 알고리즘 - Simple Aggregate"
   ]
  },
  {
   "cell_type": "markdown",
   "id": "3e215d27",
   "metadata": {},
   "source": [
    "__필요한 라이브러리__"
   ]
  },
  {
   "cell_type": "code",
   "execution_count": 1,
   "id": "09c63d48",
   "metadata": {},
   "outputs": [],
   "source": [
    "import pandas as pd\n",
    "import numpy as np\n",
    "import warnings\n",
    "\n",
    "import psycopg2   \n",
    "import sql\n",
    "from sqlalchemy import create_engine"
   ]
  },
  {
   "cell_type": "code",
   "execution_count": null,
   "id": "7ade662c",
   "metadata": {},
   "outputs": [],
   "source": [
    "user = 'postgres' # postgresql DB user ID\n",
    "password = '7089' # password\n",
    "host_product = '192.168.0.27' # 서버 IP \n",
    "dbname = 'seoul' # DB Name\n",
    "port='5432' # port number\n",
    "\n",
    "product_connection_string = \"dbname={dbname} user={user} host={host} password={password} port={port}\".format(dbname=dbname,\n",
    "                                    user=user,\n",
    "                                    host=host_product,\n",
    "                                    password=password,\n",
    "                                    port=port) "
   ]
  },
  {
   "cell_type": "code",
   "execution_count": null,
   "id": "2c8b33c3",
   "metadata": {},
   "outputs": [],
   "source": [
    "def gu_uj_df_from_db(gu_selec, uj_selec):\n",
    "    try:\n",
    "        conn = psycopg2.connect(product_connection_string)\n",
    "    except:\n",
    "        print(\"I am unable to connect to the database\")\n",
    "\n",
    "    cur = conn.cursor() \n",
    "    # 여기까지 DB접속을 위해서 항상 필요 \n",
    "    \n",
    "    gu_uj_query = \"\"\n",
    "    # DB의 table을 DataFrame으로 가져오기\n",
    "    cur.execute(\"SELECT * FROM mpop.move_pop;\") # table_nm 테이블 select \n",
    "\n",
    "#     table_nm = pd.DataFrame(cur.fetchall())\n",
    "#     table_nm.columns = [desc[0] for desc in cur.description] # 컬럼명 가져오고 싶을때 사용 \n",
    "    return pd.DataFrame(cur.fetchall())"
   ]
  },
  {
   "cell_type": "markdown",
   "id": "a35c8243",
   "metadata": {},
   "source": [
    "## aggregate된 database view table 불러오기"
   ]
  },
  {
   "cell_type": "code",
   "execution_count": 2,
   "id": "2f8b4719",
   "metadata": {},
   "outputs": [],
   "source": [
    "df = pd.read_csv('star_table.csv')"
   ]
  },
  {
   "cell_type": "markdown",
   "id": "e7f8b8dd",
   "metadata": {},
   "source": [
    "## 검색조건 적용 후, scoring\n",
    "\n",
    "> __함수명__ : star_list_poc  \n",
    "> __파라미터__ : df \n",
    "> > aggregate된 DataFrame"
   ]
  },
  {
   "cell_type": "code",
   "execution_count": 3,
   "id": "4025ef40",
   "metadata": {},
   "outputs": [],
   "source": [
    "def star_list_poc(df):\n",
    "    # 필요 리스트 설정\n",
    "    upjong_cols = df.columns[13:].to_list()\n",
    "    agg_cols = df.columns[2:13].to_list()\n",
    "    gu_list = list(df.gu_name.unique())\n",
    "    \n",
    "    # 입력받기\n",
    "    print(\"✔ 구를 선택하시오\")\n",
    "    [print(u, end=' | ') for u in gu_list]\n",
    "    print()\n",
    "    gu_selec = input()\n",
    "\n",
    "    print()\n",
    "    print(\"✔ 업종을 선택하시오\")\n",
    "    [print(u, end=' | ') for u in upjong_cols]\n",
    "    print()\n",
    "    uj_selec = input()\n",
    "    \n",
    "    print()\n",
    "    print('📊 %s의'%gu_selec, uj_selec, '업종 추천지역 Top10 결과 📊')\n",
    "    # 선택된 테이블\n",
    "    df_selec = df[df.gu_name == gu_selec].loc[:, ['gu_name', 'dong_name', \n",
    "                                                  '인구이동총합', '지하철이용객총합',\n",
    "                                                  '지하철개수', '버스이용객총합', \n",
    "                                                  '버스정류장개수', '대학상권개수', \n",
    "                                                  '공원시설개수', '집객시설개수', \n",
    "                                                  '문화시설개수', '주차장개수', \n",
    "                                                  '주차장면적', uj_selec]]\n",
    "\n",
    "    # qcut 적용할 컬럼\n",
    "    cols = df_selec.columns.difference(['gu_name', 'dong_name'])\n",
    "    # qcut 적용 테이블\n",
    "    df_selec_staring = df_selec[['gu_name', 'dong_name']]\n",
    "    # 오류 무시 setting\n",
    "    warnings.filterwarnings(action='ignore')\n",
    "    # 컬럼별 qcut 적용\n",
    "    for col in cols:\n",
    "        df_selec_staring[col] = pd.qcut(df_selec[col], 10, labels=False, \n",
    "                                        duplicates = 'drop')\n",
    "    # 오류 무시 unset\n",
    "    warnings.filterwarnings(action='default')\n",
    "\n",
    "    # 총합\n",
    "    df_selec_staring['total_star'] = df_selec_staring.iloc[:, 2:].sum(axis=1)\n",
    "    \n",
    "    # 정렬\n",
    "    df_star_final = df_selec_staring.sort_values(by='total_star', \n",
    "                                                 ascending=False)[['gu_name', 'dong_name', 'total_star']]\n",
    "#     df_star_final['total_star'] = pd.qcut(df_star_final.total_star, 11, labels=False)\n",
    "    \n",
    "    return df_star_final.head(10)"
   ]
  },
  {
   "cell_type": "markdown",
   "id": "b31ef2ab",
   "metadata": {},
   "source": [
    "## scoring 실행하기"
   ]
  },
  {
   "cell_type": "code",
   "execution_count": 4,
   "id": "05485ea9",
   "metadata": {
    "scrolled": false
   },
   "outputs": [
    {
     "name": "stdout",
     "output_type": "stream",
     "text": [
      "✔ 구를 선택하시오\n",
      "광진구 | 송파구 | 강남구 | 관악구 | 마포구 | 도봉구 | 성북구 | 금천구 | 은평구 | 용산구 | 강북구 | 동대문구 | 구로구 | 중구 | 강동구 | 중랑구 | 종로구 | 노원구 | 성동구 | 양천구 | 서대문구 | 강서구 | 서초구 | 동작구 | 영등포구 | \n",
      "강남구\n",
      "\n",
      "✔ 업종을 선택하시오\n",
      "분식전문점 | 호프.간이주점 | 양식음식점 | 제과점 | 한식음식점 | 중식음식점 | 편의점 | 일식음식점 | 커피.음료 | 패스트푸드점 | 치킨전문점 | 슈퍼마켓 | \n",
      "한식음식점\n",
      "\n",
      "📊 강남구의 한식음식점 업종 추천지역 Top10 결과 📊\n"
     ]
    },
    {
     "data": {
      "text/html": [
       "<div>\n",
       "<style scoped>\n",
       "    .dataframe tbody tr th:only-of-type {\n",
       "        vertical-align: middle;\n",
       "    }\n",
       "\n",
       "    .dataframe tbody tr th {\n",
       "        vertical-align: top;\n",
       "    }\n",
       "\n",
       "    .dataframe thead th {\n",
       "        text-align: right;\n",
       "    }\n",
       "</style>\n",
       "<table border=\"1\" class=\"dataframe\">\n",
       "  <thead>\n",
       "    <tr style=\"text-align: right;\">\n",
       "      <th></th>\n",
       "      <th>gu_name</th>\n",
       "      <th>dong_name</th>\n",
       "      <th>total_star</th>\n",
       "    </tr>\n",
       "  </thead>\n",
       "  <tbody>\n",
       "    <tr>\n",
       "      <th>275</th>\n",
       "      <td>강남구</td>\n",
       "      <td>역삼1동</td>\n",
       "      <td>76</td>\n",
       "    </tr>\n",
       "    <tr>\n",
       "      <th>9</th>\n",
       "      <td>강남구</td>\n",
       "      <td>삼성1동</td>\n",
       "      <td>70</td>\n",
       "    </tr>\n",
       "    <tr>\n",
       "      <th>188</th>\n",
       "      <td>강남구</td>\n",
       "      <td>논현2동</td>\n",
       "      <td>67</td>\n",
       "    </tr>\n",
       "    <tr>\n",
       "      <th>88</th>\n",
       "      <td>강남구</td>\n",
       "      <td>압구정동</td>\n",
       "      <td>64</td>\n",
       "    </tr>\n",
       "    <tr>\n",
       "      <th>267</th>\n",
       "      <td>강남구</td>\n",
       "      <td>청담동</td>\n",
       "      <td>54</td>\n",
       "    </tr>\n",
       "    <tr>\n",
       "      <th>300</th>\n",
       "      <td>강남구</td>\n",
       "      <td>대치2동</td>\n",
       "      <td>54</td>\n",
       "    </tr>\n",
       "    <tr>\n",
       "      <th>42</th>\n",
       "      <td>강남구</td>\n",
       "      <td>논현1동</td>\n",
       "      <td>52</td>\n",
       "    </tr>\n",
       "    <tr>\n",
       "      <th>158</th>\n",
       "      <td>강남구</td>\n",
       "      <td>대치4동</td>\n",
       "      <td>48</td>\n",
       "    </tr>\n",
       "    <tr>\n",
       "      <th>390</th>\n",
       "      <td>강남구</td>\n",
       "      <td>신사동</td>\n",
       "      <td>41</td>\n",
       "    </tr>\n",
       "    <tr>\n",
       "      <th>156</th>\n",
       "      <td>강남구</td>\n",
       "      <td>도곡2동</td>\n",
       "      <td>39</td>\n",
       "    </tr>\n",
       "  </tbody>\n",
       "</table>\n",
       "</div>"
      ],
      "text/plain": [
       "    gu_name dong_name  total_star\n",
       "275     강남구      역삼1동          76\n",
       "9       강남구      삼성1동          70\n",
       "188     강남구      논현2동          67\n",
       "88      강남구      압구정동          64\n",
       "267     강남구       청담동          54\n",
       "300     강남구      대치2동          54\n",
       "42      강남구      논현1동          52\n",
       "158     강남구      대치4동          48\n",
       "390     강남구       신사동          41\n",
       "156     강남구      도곡2동          39"
      ]
     },
     "execution_count": 4,
     "metadata": {},
     "output_type": "execute_result"
    }
   ],
   "source": [
    "star_list_poc(df)"
   ]
  }
 ],
 "metadata": {
  "kernelspec": {
   "display_name": "Python 3 (ipykernel)",
   "language": "python",
   "name": "python3"
  },
  "language_info": {
   "codemirror_mode": {
    "name": "ipython",
    "version": 3
   },
   "file_extension": ".py",
   "mimetype": "text/x-python",
   "name": "python",
   "nbconvert_exporter": "python",
   "pygments_lexer": "ipython3",
   "version": "3.9.12"
  }
 },
 "nbformat": 4,
 "nbformat_minor": 5
}
