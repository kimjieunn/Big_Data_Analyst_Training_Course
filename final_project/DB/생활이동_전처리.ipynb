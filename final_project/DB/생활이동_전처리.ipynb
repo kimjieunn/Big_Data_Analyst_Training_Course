{
 "cells": [
  {
   "cell_type": "code",
   "execution_count": null,
   "id": "b1d99d3b",
   "metadata": {},
   "outputs": [],
   "source": [
    "def get_dong(a, b):\n",
    "\n",
    "    # 이동인구(합) = '*' 값 제거\n",
    "    mp = a[a['이동인구(합)'] == '*'].index\n",
    "    a.drop(mp, inplace=True)\n",
    "\n",
    "    # 생활이동 데이터와 지역코드 데이터 merge\n",
    "    merge = pd.merge(a, b, how='left', left_on='도착 행정동 코드', right_on='읍면동')\n",
    "    merge = merge[merge['시도'] == 11000 ] # 서울시도 코드인 '11000'만 추출\n",
    "\n",
    "    # 이동유형중 도착유형만 사용하기 위해 파생변수 생성\n",
    "    merge[\"유형\"]=merge[\"이동유형\"].str[1:]\n",
    "\n",
    "    # 대상연월에서 대상년, 대상월 파생변수 생성\n",
    "    merge['대상연월'] = pd.to_datetime(merge['대상연월'], format='%Y%m')\n",
    "    merge['대상년'] = merge['대상연월'].dt.year\n",
    "    merge['대상월'] = merge['대상연월'].dt.month\n",
    "\n",
    "    # 필요없는 컬럼 제거 및 데이터 타입 변경\n",
    "    merge.drop(['출발 행정동 코드', '평균 이동 시간(분)', '시군구', 'full_name', \n",
    "                '이동유형', '시도', '읍면동', '대상연월'], axis=1, inplace=True)\n",
    "    merge =  merge.astype({'이동인구(합)':'float'})\n",
    "\n",
    "    # 데이터 groupby\n",
    "    merge = merge.groupby(['대상년', '대상월', '도착시간', '도착 행정동 코드', 'name', \n",
    "                           '요일', '유형', '성별', '나이' ], as_index=False).sum()\n",
    "    \n",
    "    return merge"
   ]
  },
  {
   "cell_type": "code",
   "execution_count": null,
   "id": "f73446bf",
   "metadata": {},
   "outputs": [],
   "source": [
    "import pandas as pd\n",
    "\n",
    "code = pd.read_csv('code.csv', encoding='CP949')\n",
    "\n",
    "def year_month_file(zip_file, hjd_list, code):\n",
    "    \n",
    "    df = pd.DataFrame()\n",
    "\n",
    "    for hjd in hjd_list:\n",
    "        data = pd.read_csv('./data/'+hjd, encoding='CP949')\n",
    "        merge = get_dong(data, code)    \n",
    "        df = pd.concat([df,merge], axis=0)\n",
    "        \n",
    "    f_name = re.sub(r'[^0-9]', '', zip_file)\n",
    "    df.to_csv('생활이동_'+f_name+'.csv', index=False, encoding='ANSI')\n",
    "        \n",
    "    print(zip_file , '전처리 데이터(csv) 생성완료')"
   ]
  },
  {
   "cell_type": "code",
   "execution_count": null,
   "id": "e2cee291",
   "metadata": {},
   "outputs": [],
   "source": [
    "def DeleteAllFiles(filePath):\n",
    "    if os.path.exists(filePath):\n",
    "        for file in os.scandir(filePath):\n",
    "            os.remove(file.path)\n",
    "        return print('Remove All File')\n",
    "    else:\n",
    "        return print('Directory Not Found')"
   ]
  },
  {
   "cell_type": "code",
   "execution_count": null,
   "id": "feef3652",
   "metadata": {},
   "outputs": [],
   "source": [
    "import zipfile\n",
    "import re\n",
    "import os \n",
    "\n",
    "PATH = \"C:/Users/Admin/Downloads/생활이동/\" # 압축파일 저장된 폴더\n",
    "\n",
    "zip_file_list = os.listdir(PATH)\n",
    "\n",
    "for zip_file in zip_file_list:\n",
    "    fantasy_zip = zipfile.ZipFile(PATH+zip_file) #년도 월 압축파일\n",
    "    fantasy_zip.extractall('./data') # data에 압축해제\n",
    "    \n",
    "    hjd_list = os.listdir('./data') # data에 압축해제된 년도.월.시간대.파일 리스트\n",
    "\n",
    "    year_month_file(zip_file, hjd_list, code) # 시간대 파일 합산 데이터 출력\n",
    "    \n",
    "    DeleteAllFiles('./data') #압축해제한 데이터 삭제\n",
    "    print(zip_file, '압축해제한 폴더 삭제 성공')\n",
    "    \n",
    "fantasy_zip.close()"
   ]
  }
 ],
 "metadata": {
  "kernelspec": {
   "display_name": "Python 3 (ipykernel)",
   "language": "python",
   "name": "python3"
  },
  "language_info": {
   "codemirror_mode": {
    "name": "ipython",
    "version": 3
   },
   "file_extension": ".py",
   "mimetype": "text/x-python",
   "name": "python",
   "nbconvert_exporter": "python",
   "pygments_lexer": "ipython3",
   "version": "3.9.12"
  },
  "toc": {
   "base_numbering": 1,
   "nav_menu": {},
   "number_sections": true,
   "sideBar": true,
   "skip_h1_title": false,
   "title_cell": "Table of Contents",
   "title_sidebar": "Contents",
   "toc_cell": false,
   "toc_position": {},
   "toc_section_display": true,
   "toc_window_display": false
  }
 },
 "nbformat": 4,
 "nbformat_minor": 5
}
