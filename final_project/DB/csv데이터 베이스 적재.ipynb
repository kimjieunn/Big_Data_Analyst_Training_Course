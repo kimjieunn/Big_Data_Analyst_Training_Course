{
 "cells": [
  {
   "cell_type": "markdown",
   "id": "dcf518d7",
   "metadata": {},
   "source": [
    "creation date : 2022-11-17"
   ]
  },
  {
   "cell_type": "markdown",
   "id": "37e67f35",
   "metadata": {},
   "source": [
    "# postgresql db 접근 후, table ddl, dml"
   ]
  },
  {
   "cell_type": "code",
   "execution_count": null,
   "id": "fe47070a",
   "metadata": {},
   "outputs": [],
   "source": [
    "# Postgresql DB connect using psycopg2\n",
    "\n",
    "from psycopg2 import connect\n",
    "\n",
    "\n",
    "conn = psycopg2.connect(\"host='192.168.0.27' port='5432' dbname='seoul' user='postgres' password='7089'\") # 그대로\n",
    "cur = conn.cursor()\n",
    "\n",
    "# Create a table at Postgresql public schema with seoul name\n",
    "# 모델 create 문 쓰세요!!!\n",
    "cur.execute(\"\"\"\n",
    "    DROP TABLE IF EXISTS test;\n",
    "    CREATE TABLE mpop.gaon (\n",
    "    \n",
    "        대상년 numeric not null, \n",
    "        대상월 numeric not null, \n",
    "        도착시간 numeric not null, \n",
    "        도착_행정동_코드 numeric not null,\n",
    "        동 varchar(20) not null,\n",
    "        요일 varchar(10) not null,\n",
    "        유형 varchar(10) not null,\n",
    "        성별 varchar(10) not null, \n",
    "        나이 numeric not null, \n",
    "        이동인구 numeric not null\n",
    "    )\n",
    "\"\"\")\n",
    "conn.commit()"
   ]
  },
  {
   "cell_type": "code",
   "execution_count": null,
   "id": "c2f7b1ad",
   "metadata": {},
   "outputs": [],
   "source": [
    "# import csv\n",
    "\n",
    "# query = \"\"\"\n",
    "#     COPY seoul FROM STDIN DELIMITER ',' CSV;\n",
    "# \"\"\"\n",
    "\n",
    "# path = ''\n",
    "# with open('C:/Users/Admin/Desktop/새 폴더/2020_01_생활이동/생활이동_2020.01.csv', 'r', encoding='euc-kr') as f:\n",
    "#     csvheader = csv.reader(f)\n",
    "#     next(csvheader)\n",
    "#     cur.copy_expert(query, f)\n",
    "\n",
    "# conn.commit()\n",
    "\n",
    "# close connection\n",
    "conn.close()"
   ]
  },
  {
   "cell_type": "markdown",
   "id": "64582d31",
   "metadata": {},
   "source": [
    "> db를 사용하기 위한 라이브러리 다운"
   ]
  },
  {
   "cell_type": "code",
   "execution_count": null,
   "id": "fbc0c9ce",
   "metadata": {},
   "outputs": [],
   "source": [
    "!pip install psycopg2-binary\n",
    "import psycopg2"
   ]
  },
  {
   "cell_type": "markdown",
   "id": "605b5163",
   "metadata": {},
   "source": [
    "# 생성된 table 접근 후 폴더 안 csv파일 db insert"
   ]
  },
  {
   "cell_type": "code",
   "execution_count": null,
   "id": "9460c7e5",
   "metadata": {},
   "outputs": [],
   "source": [
    "import psycopg2\n",
    "import glob\n",
    "\n",
    "# conn = psycopg2.connect(\"host='192.160.0.27' port='5432' dbname='seoul' user='postgres' password='7089'\") # 그대로\n",
    "# curs = conn.cursor()\n",
    "# 입력하는것.\n",
    "\n",
    "\n",
    "copy_sql = \"\"\"\n",
    "           COPY mpop.table_name (year, month, etc, 컬럼 이름 지정) FROM stdin DELIMITER ',' CSV HEADER\n",
    "           \"\"\"\n",
    "# HEADER라는 옵션을 넣으면 HEADER를 데이터라고 인식하지 않게 된다.\n",
    "# HEADER를 안넣고 Data input을 시작하면 HEADER를 데이터로 인식해 올바르지 않은 데이터 타입이라고 경고를 한다.\n",
    "\n",
    "# 연속적 파일 아니면 그냥 dbeaver에서 데이터 가져오기로.. \n",
    "# 컬럼 동일한 연속적 파일인 경우 폴더에 모아서 폴더 경로 지정\n",
    "p_path = '폴더 경로'\n",
    "for f in glob.glob(p_path + '/*.csv'):\n",
    "    with open(f, 'r') as f:\n",
    "        curs.copy_expert(copy_sql, f)\n",
    "        print(f) # 만약 파일의 이름만 출력하고 싶으면 f.name 사용\n",
    "\n",
    "    conn.commit() \n",
    "    print(\"Commit\")\n",
    "\n",
    "curs.close()\n",
    "conn.close()\n",
    "print(\"Success\")"
   ]
  },
  {
   "cell_type": "code",
   "execution_count": null,
   "id": "d06de7f4",
   "metadata": {},
   "outputs": [],
   "source": []
  }
 ],
 "metadata": {
  "kernelspec": {
   "display_name": "Python 3 (ipykernel)",
   "language": "python",
   "name": "python3"
  },
  "language_info": {
   "codemirror_mode": {
    "name": "ipython",
    "version": 3
   },
   "file_extension": ".py",
   "mimetype": "text/x-python",
   "name": "python",
   "nbconvert_exporter": "python",
   "pygments_lexer": "ipython3",
   "version": "3.9.12"
  },
  "toc": {
   "base_numbering": 1,
   "nav_menu": {},
   "number_sections": true,
   "sideBar": true,
   "skip_h1_title": false,
   "title_cell": "Table of Contents",
   "title_sidebar": "Contents",
   "toc_cell": false,
   "toc_position": {},
   "toc_section_display": true,
   "toc_window_display": false
  }
 },
 "nbformat": 4,
 "nbformat_minor": 5
}
